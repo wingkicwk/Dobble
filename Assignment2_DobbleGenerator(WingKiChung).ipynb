{
 "cells": [
  {
   "cell_type": "code",
   "execution_count": null,
   "metadata": {
    "scrolled": true
   },
   "outputs": [],
   "source": [
    "#import emoji\n",
    "import emoji\n",
    "imageDict = dict()\n",
    "fin = open('emoji_names.txt',\"r\")\n",
    "lines = fin.readlines()\n",
    "for i, el in enumerate(lines):\n",
    "    imageDict[i+1] = emoji.emojize(el.strip())\n",
    "    \n",
    "def generate_deck():\n",
    "    \"\"\"Generate a deck that store a dictionary which key is each card and value is the set of images of each card\"\"\"\n",
    "# nIm - 1 must be prime\n",
    "# Cards must have 3, 4, 6 or 8 images\n",
    "    nIm = 8\n",
    "    n = nIm - 1\n",
    "    r = range(n)\n",
    "    rp1 = range(n+1)\n",
    "    deck = dict()  #use a dictionary to store the deck\n",
    "    c = 0\n",
    "\n",
    "    # First card\n",
    "    c += 1\n",
    "    image_set=set()   #use a set to add images \n",
    "    for i in rp1:\n",
    "        image_set.add(i+1)\n",
    "    deck[c]=image_set #Key of the dictionary deck is card, value is the set of images\n",
    "\n",
    "    # n following cards\n",
    "    for j in r:\n",
    "        image_set=set() #use a set to add images \n",
    "        c = c+1\n",
    "        image_set.add(1)\n",
    "\n",
    "        for k in r:\n",
    "            image_set.add(n+2 + n*j +k)\n",
    "        deck[c]=image_set #Key of the dictionary deck is card, value is the set of images\n",
    "\n",
    "    # n x n following cards\n",
    "    for i in r:\n",
    "        for j in r:\n",
    "            image_set=set() #use a set to add images \n",
    "            c = c+1\n",
    "            image_set.add(i+2)\n",
    "            for k in r:   \n",
    "                image_set.add((n+1 +n*k + (i*k+j) % n)+1)\n",
    "            deck[c]=image_set  #Key of the dictionary deck is card, value is the set of images\n",
    "    return deck\n"
   ]
  },
  {
   "cell_type": "code",
   "execution_count": null,
   "metadata": {
    "scrolled": true
   },
   "outputs": [],
   "source": [
    "def check_validity(deck, verbose=False):\n",
    "    \"\"\"To check if a deck is dooble deck,i.e. each card matches on one and only one image\"\"\"\n",
    "    #check each card of the deck with other card\n",
    "    for each_card in deck: \n",
    "        for another_card in deck:\n",
    "            if each_card!=another_card:     #if it is a different card         \n",
    "                if verbose==True: \n",
    "                    card=deck[each_card].intersection(deck[another_card]) #use intersection method to find the number of identical images in card\n",
    "                    print ('The card with ID', card, 'have ', len(card), ' common images') #show output as each pair is checked if verbose\n",
    "                    if len(card)>1:\n",
    "                        return ('It is not a valid deck') #show a invalid message if common images more than one\n",
    "                else:\n",
    "                    #do the same check for non verbose mode\n",
    "                    card=deck[each_card].intersection(deck[another_card])\n",
    "                    if len(card)>1:\n",
    "                        return ('It is not a valid deck') #show a invalid message if common images more than one\n",
    "    \n",
    "    #if each card matches on one and only one image,then it is valid\n",
    "    return (\"it is a valid deck!\")"
   ]
  },
  {
   "cell_type": "code",
   "execution_count": null,
   "metadata": {
    "scrolled": true
   },
   "outputs": [],
   "source": [
    "deck = generate_deck()\n",
    "check_validity(deck, verbose=False) #you can check validity here if you want"
   ]
  },
  {
   "cell_type": "code",
   "execution_count": null,
   "metadata": {},
   "outputs": [],
   "source": [
    "from random import choice \n",
    "class DobbleCard:\n",
    "    def __init__(self):\n",
    "        \"\"\"Ramdomly choose one card from the deck dictionary\"\"\"\n",
    "        self.keyofcard,self.valueofcard=choice(list(deck.items()))\n",
    "        del deck[self.keyofcard] #remove a card from deck after per choose to prevent repetition, the whole deck can be restored if call generate_deck() again \n",
    "        #convert the values of cards to corresponding emojis\n",
    "        self.images = set()\n",
    "        for image in self.valueofcard:\n",
    "            self.images.update(imageDict[image])   "
   ]
  },
  {
   "cell_type": "code",
   "execution_count": null,
   "metadata": {},
   "outputs": [],
   "source": [
    "class DobbleDeck:\n",
    "    def __init__(self,number):\n",
    "        self.my_deck = []  #create a empty list \n",
    "        for card in range(0,number):\n",
    "            self.add_card()  #add cards to the list according to the number given       \n",
    "    def add_card(self):\n",
    "        \"\"\"pick a card from DobbleCard() and append it to my_deck list \"\"\"\n",
    "        card = DobbleCard()\n",
    "        self.my_deck.append(card) \n",
    "        \n",
    "    def remove_card(self,number):\n",
    "        \"\"\"remove a card with the index given\"\"\"\n",
    "        self.my_deck.pop(number)\n",
    "    def play_card(self):\n",
    "        \"\"\"show the card to players in a given format\"\"\"\n",
    "        card1=self.my_deck[0].images #choose the first card from my_deck\n",
    "        card2=self.my_deck[1].images #choose the second card from my_deck\n",
    "        #convert the cards from set to list\n",
    "        first_card = list(card1)\n",
    "        second_card = list(card2)\n",
    "        #print the cards with a given format\n",
    "        print(\"\\t{} {} {}     \\t{} {} {}\".format(first_card[0],first_card[1],first_card[2],second_card[0],second_card[1],second_card[2]))\n",
    "        print(\"\\t{} {} {}     \\t{} {} {}\".format(first_card[3],first_card[4],first_card[5],second_card[3],second_card[4],second_card[5]))\n",
    "        print(\"\\t{} {}        \\t{} {}\".format(first_card[6],first_card[7],second_card[6],second_card[7]))"
   ]
  },
  {
   "cell_type": "code",
   "execution_count": null,
   "metadata": {
    "scrolled": true
   },
   "outputs": [],
   "source": [
    "def Dobble_Game():\n",
    "    global deck   #use a global variable deck\n",
    "    deck=generate_deck()  #call the function to generate a dooble deck\n",
    "    while True:\n",
    "        card_number=input('How many cards (<56)?') #prompt the user for number of cards\n",
    "        try:\n",
    "            card_no=int(card_number)  #check if it is possible to convert number of cards to integer and break the loop\n",
    "            break \n",
    "        except:\n",
    "            print(\"Error! Invalid input.Try again.\") #if fail to convert then print error message and prompt again\n",
    "            \n",
    "    while card_no>=56 or card_no<= 0: #check if number of cards is in valid range     \n",
    "        print(\"Error! Invalid input.Try again.\") # if not print an error message and ask the player to input again\n",
    "        card_number=input('How many cards (<56)?') \n",
    "        try:\n",
    "            card_no=int(card_number)  #check if it is possible to convert number of cards to integer\n",
    "        except:\n",
    "            pass   #if fail to convert then back to while loop again and print erro rmessage there\n",
    "    else:      \n",
    "        A_win_number=0  #initialize the number of winning of player A to 0\n",
    "        B_win_number=0  #initialize the number of winning of player B to 0\n",
    "        count=1  #initialize the number of count to 1\n",
    "        DECK = DobbleDeck(card_no+1)  #call DobbleDeck with a given amount of cards plus one to create a deck\n",
    "       \n",
    "        #play the game when not exceeding the amount of card requested\n",
    "        while count <= card_no:\n",
    "            print(\"If you want to record a draw type 'd' or 'D'\")  \n",
    "            DECK.play_card()   #show the two cards\n",
    "            enter_winner = input(\"Who wins (A or B)? \") #prompt the user for winner\n",
    "            enter_winner=enter_winner.lower() #convert answer to lower case\n",
    "            if enter_winner not in ['a','b','d','D']:\n",
    "                print(\"Invalid input.Try again.\")   #print a message if input is invalid\n",
    "            else:\n",
    "                #count the number of winning according to input\n",
    "                if enter_winner == 'a':\n",
    "                    A_win_number+=1\n",
    "                elif enter_winner == 'b':\n",
    "                    B_win_number+=1\n",
    "                elif enter_winner == 'd':\n",
    "                    pass\n",
    "                DECK.remove_card(0)  #remove one card from deck per round\n",
    "                count+=1 #increase count number per round\n",
    "       #print out the result\n",
    "        print ('Score')\n",
    "        print ('A:', A_win_number)\n",
    "        print ('B:', B_win_number)  "
   ]
  },
  {
   "cell_type": "code",
   "execution_count": null,
   "metadata": {
    "scrolled": false
   },
   "outputs": [],
   "source": [
    "Dobble_Game()"
   ]
  },
  {
   "cell_type": "code",
   "execution_count": null,
   "metadata": {},
   "outputs": [],
   "source": []
  },
  {
   "cell_type": "code",
   "execution_count": null,
   "metadata": {},
   "outputs": [],
   "source": []
  }
 ],
 "metadata": {
  "kernelspec": {
   "display_name": "Python 3",
   "language": "python",
   "name": "python3"
  },
  "language_info": {
   "codemirror_mode": {
    "name": "ipython",
    "version": 3
   },
   "file_extension": ".py",
   "mimetype": "text/x-python",
   "name": "python",
   "nbconvert_exporter": "python",
   "pygments_lexer": "ipython3",
   "version": "3.7.3"
  }
 },
 "nbformat": 4,
 "nbformat_minor": 2
}
